{
 "cells": [
  {
   "cell_type": "markdown",
   "metadata": {},
   "source": [
    "## First, let's run some tests.\n",
    "\n",
    "Running `dotnet test`  with the `-l trx` option tells the logger to produce `.trx` files."
   ]
  },
  {
   "cell_type": "code",
   "execution_count": null,
   "metadata": {
    "dotnet_interactive": {
     "language": "pwsh"
    },
    "vscode": {
     "languageId": "polyglot-notebook"
    }
   },
   "outputs": [],
   "source": [
    "dotnet test -l trx"
   ]
  },
  {
   "cell_type": "markdown",
   "metadata": {},
   "source": [
    "## Take a look at the results\n",
    "\n",
    "Once we have `.trx` files, we can use TRexLib to find, parse, and display the results. "
   ]
  },
  {
   "cell_type": "code",
   "execution_count": null,
   "metadata": {
    "dotnet_interactive": {
     "language": "csharp"
    },
    "vscode": {
     "languageId": "polyglot-notebook"
    }
   },
   "outputs": [],
   "source": [
    "using System.IO;\n",
    "using Microsoft.DotNet.Interactive;\n",
    "using Microsoft.DotNet.Interactive.Commands;\n",
    "\n",
    "var dll = Directory.GetFiles(\"./TRexLib/bin\", @\"TRexLib.dll\", SearchOption.AllDirectories )\n",
    "                   .Where(f => f.Contains(\"Debug\"))\n",
    "                   .Where(f => f.Contains(\"net9.0\"))\n",
    "                   .SingleOrDefault();\n",
    "\n",
    "var submitCode = new SubmitCode(@$\"#r \"\"{dll}\"\"\", \"csharp\");\n",
    "\n",
    "Kernel.Root.FindKernel(\"csharp\").DeferCommand(submitCode);\n"
   ]
  },
  {
   "cell_type": "code",
   "execution_count": null,
   "metadata": {
    "dotnet_interactive": {
     "language": "csharp"
    },
    "vscode": {
     "languageId": "polyglot-notebook"
    }
   },
   "outputs": [],
   "source": [
    "Formatter.Register<IReadOnlyCollection<TestResult>>(r => , \"text/html\");"
   ]
  },
  {
   "cell_type": "code",
   "execution_count": null,
   "metadata": {
    "dotnet_interactive": {
     "language": "csharp"
    },
    "vscode": {
     "languageId": "polyglot-notebook"
    }
   },
   "outputs": [],
   "source": [
    "using TRexLib;\n",
    "var results = TestResultSet.Create(\".\", latestOnly: true);\n",
    "results.First()"
   ]
  },
  {
   "cell_type": "code",
   "execution_count": null,
   "metadata": {
    "dotnet_interactive": {
     "language": "csharp"
    },
    "vscode": {
     "languageId": "polyglot-notebook"
    }
   },
   "outputs": [],
   "source": [
    "Formatter.RecursionLimit = 5;\n",
    "Enumerable.Range(1, 10).Select(i => new FileInfo($\"{i}.txt\")).Display(\"text/plain\");"
   ]
  },
  {
   "cell_type": "code",
   "execution_count": null,
   "metadata": {
    "dotnet_interactive": {
     "language": "csharp"
    },
    "vscode": {
     "languageId": "polyglot-notebook"
    }
   },
   "outputs": [],
   "source": [
    "using Microsoft.DotNet.Interactive.Formatting;\n",
    "\n",
    "results.ToDisplayString(\"application/json\")"
   ]
  },
  {
   "cell_type": "code",
   "execution_count": null,
   "metadata": {
    "dotnet_interactive": {
     "language": "csharp"
    },
    "vscode": {
     "languageId": "polyglot-notebook"
    }
   },
   "outputs": [],
   "source": [
    "using Microsoft.DotNet.Interactive.Formatting;\n",
    "\n",
    "var resultsCsv = results.ToDisplayString(\"text/csv\");\n",
    "\n",
    "resultsCsv"
   ]
  },
  {
   "cell_type": "markdown",
   "metadata": {},
   "source": [
    "#  Let's plot!\n"
   ]
  },
  {
   "cell_type": "markdown",
   "metadata": {},
   "source": [
    "## F#"
   ]
  },
  {
   "cell_type": "code",
   "execution_count": null,
   "metadata": {
    "dotnet_interactive": {
     "language": "fsharp"
    },
    "vscode": {
     "languageId": "polyglot-notebook"
    }
   },
   "outputs": [],
   "source": [
    "#r \"nuget: Plotly.NET.Interactive\""
   ]
  },
  {
   "cell_type": "code",
   "execution_count": null,
   "metadata": {
    "dotnet_interactive": {
     "language": "fsharp"
    },
    "vscode": {
     "languageId": "polyglot-notebook"
    }
   },
   "outputs": [],
   "source": [
    "open Plotly.NET \n",
    "\n",
    "let values = [5.;0.;3.;2.;3.]\n",
    "let multiText = [\"At\";\"Bt\";\"Ct\";\"Dt\";\"Et\"]\n",
    "\n",
    "let sunburstChart =\n",
    "    Chart.Sunburst(\n",
    "        [\"A\";\"B\";\"C\";\"D\";\"E\"],\n",
    "        [\"\";\"\";\"B\";\"B\";\"\"],\n",
    "        Values=values,\n",
    "        MultiText=multiText\n",
    "    )\n",
    "\n",
    "sunburstChart"
   ]
  },
  {
   "cell_type": "code",
   "execution_count": null,
   "metadata": {
    "dotnet_interactive": {
     "language": "fsharp"
    },
    "vscode": {
     "languageId": "polyglot-notebook"
    }
   },
   "outputs": [],
   "source": [
    "#r \"nuget:microsoft.data.analysis\"\n",
    "#!share  --from csharp resultsCsv\n",
    "\n",
    "\n"
   ]
  },
  {
   "cell_type": "code",
   "execution_count": null,
   "metadata": {
    "dotnet_interactive": {
     "language": "fsharp"
    },
    "vscode": {
     "languageId": "polyglot-notebook"
    }
   },
   "outputs": [],
   "source": [
    "open Microsoft.Data.Analysis\n",
    "\n",
    "let df = DataFrame.LoadCsvFromString(resultsCsv)\n",
    "\n",
    "df\n",
    "\n"
   ]
  },
  {
   "cell_type": "code",
   "execution_count": null,
   "metadata": {
    "dotnet_interactive": {
     "language": "javascript"
    },
    "vscode": {
     "languageId": "polyglot-notebook"
    }
   },
   "outputs": [],
   "source": [
    "    require.config({ \n",
    "    paths: { \"plotly\": \"https://cdn.plot.ly/plotly-2.12.1.min\"  } \n",
    "});\n",
    "\n",
    "require([\"plotly\"], plotly => {\n",
    "    console.log(plotly);\n",
    "});"
   ]
  },
  {
   "cell_type": "code",
   "execution_count": null,
   "metadata": {
    "dotnet_interactive": {
     "language": "javascript"
    },
    "vscode": {
     "languageId": "polyglot-notebook"
    }
   },
   "outputs": [],
   "source": [
    "(require.config({'paths': {'plotly': 'https://cdn.plot.ly/plotly-2.12.1.min'}}) || require)(['plotly'], plotly => {\n",
    "    plotly.plot( document.getElementById('tester'), [{\n",
    "        x: [1, 2, 3, 4, 5],\n",
    "        y: [1, 2, 4, 8, 16] }], { \n",
    "        margin: { t: 0 } }, {showSendToCloud:true} );\n",
    "}); "
   ]
  },
  {
   "cell_type": "code",
   "execution_count": null,
   "metadata": {
    "dotnet_interactive": {
     "language": "html"
    },
    "vscode": {
     "languageId": "polyglot-notebook"
    }
   },
   "outputs": [],
   "source": [
    "<script src=\"https://cdn.plot.ly/plotly-2.12.1.min.js\"></script>"
   ]
  },
  {
   "cell_type": "code",
   "execution_count": null,
   "metadata": {
    "dotnet_interactive": {
     "language": "javascript"
    },
    "vscode": {
     "languageId": "polyglot-notebook"
    }
   },
   "outputs": [],
   "source": [
    "var data = [{x:[0,1,2], y:[3,2,1], type: 'bar'}];\n",
    "var layout = {fileopt : \"overwrite\", filename : \"simple-node-example\"};\n",
    "\n",
    "plotly.plot(data, layout, function (err, msg) {\n",
    "    if (err) return console.log(err);\n",
    "    console.log(msg);\n",
    "});"
   ]
  },
  {
   "cell_type": "code",
   "execution_count": null,
   "metadata": {
    "dotnet_interactive": {
     "language": "javascript"
    },
    "vscode": {
     "languageId": "polyglot-notebook"
    }
   },
   "outputs": [],
   "source": [
    "var plotly = require('plotly')(\"DemoAccount\", \"lr1c37zw81\")"
   ]
  },
  {
   "cell_type": "code",
   "execution_count": null,
   "metadata": {
    "dotnet_interactive": {
     "language": "javascript"
    },
    "vscode": {
     "languageId": "polyglot-notebook"
    }
   },
   "outputs": [],
   "source": []
  }
 ],
 "metadata": {
  "kernelspec": {
   "display_name": ".NET (C#)",
   "language": "C#",
   "name": ".net-csharp"
  },
  "language_info": {
   "name": "C#"
  }
 },
 "nbformat": 4,
 "nbformat_minor": 2
}
